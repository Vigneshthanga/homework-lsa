{
 "cells": [
  {
   "cell_type": "code",
   "execution_count": 2,
   "metadata": {},
   "outputs": [
    {
     "name": "stdout",
     "output_type": "stream",
     "text": [
      "This is the distance condensed matrix:\n",
      "[ 1.41421356  2.23606798  3.16227766  2.82842712  9.05538514  7.07106781\n",
      "  5.83095189  5.65685425  5.09901951  5.38516481  3.60555128  4.\n",
      "  3.16227766 10.19803903  8.          6.32455532  5.83095189  4.\n",
      "  5.          2.23606798  3.          7.          5.38516481  5.\n",
      "  5.38516481  6.70820393  6.          1.41421356  6.32455532  4.\n",
      "  2.82842712  3.16227766  5.65685425  4.12310563  7.61577311  5.09901951\n",
      "  3.16227766  2.82842712  4.24264069  3.          2.82842712  5.65685425\n",
      "  7.07106781 11.66190379  9.21954446  2.82842712  4.24264069  8.94427191\n",
      "  6.40312424  1.41421356  6.32455532  3.60555128  5.09901951  2.23606798\n",
      "  3.        ]\n"
     ]
    },
    {
     "data": {
      "image/png": "[encoded data removed]",
      "text/plain": [
       "<Figure size 432x288 with 1 Axes>"
      ]
     },
     "metadata": {
      "needs_background": "light"
     },
     "output_type": "display_data"
    },
    {
     "data": {
      "image/png": "[encoded data removed]",
      "text/plain": [
       "<Figure size 432x288 with 1 Axes>"
      ]
     },
     "metadata": {
      "needs_background": "light"
     },
     "output_type": "display_data"
    },
    {
     "data": {
      "image/png": "[encoded data removed]",
      "text/plain": [
       "<Figure size 432x288 with 1 Axes>"
      ]
     },
     "metadata": {
      "needs_background": "light"
     },
     "output_type": "display_data"
    },
    {
     "data": {
      "image/png": "[encoded data removed]",
      "text/plain": [
       "<Figure size 432x288 with 1 Axes>"
      ]
     },
     "metadata": {
      "needs_background": "light"
     },
     "output_type": "display_data"
    }
   ],
   "source": [
    "from sklearn.cluster import AgglomerativeClustering \n",
    "import math \n",
    "import numpy as np \n",
    "from scipy.cluster import hierarchy \n",
    "import matplotlib.pyplot as plt \n",
    "from scipy.spatial.distance import pdist\n",
    "\n",
    "points = np.array([[3,7], [2,6], [5,8], [6,6], [5,5], [12,8], [10,6], [8,4], [7,3], [2,2], [5,2]])\n",
    "\n",
    "#This is the condensed matrix of distance between the points:\n",
    "dc = pdist(points)\n",
    "print('This is the distance condensed matrix:')\n",
    "print(dc)\n",
    "\n",
    "x = np.array([3,2,5,6,5,12,10,8,7,2,5])\n",
    "y = np.array([7,6,8,6,5,8,6,4,3,2,2])\n",
    "\n",
    "plt.scatter(x, y)\n",
    "fig = plt.gcf()\n",
    "fig.canvas.set_window_title('Scatter Plot of points')\n",
    "plt.show()\n",
    "\n",
    "#Fitting the data in Agg Clustering, can use this in future.\n",
    "clustering = AgglomerativeClustering().fit(points)\n",
    "\n",
    "AgglomerativeClustering(affinity='euclidean', compute_full_tree='auto',\n",
    "                        connectivity=None, distance_threshold=None,\n",
    "                        linkage='single', memory=None, n_clusters=1,\n",
    "                        pooling_func='deprecated')\n",
    "\n",
    "S= hierarchy.linkage(dc, 'single')\n",
    "sdn = hierarchy.dendrogram(S)\n",
    "fig = plt.gcf()\n",
    "fig.canvas.set_window_title('Single-Linkage Clustering')\n",
    "plt.show()\n",
    "\n",
    "A = hierarchy.linkage(dc, 'average')\n",
    "adn = hierarchy.dendrogram(A)\n",
    "fig = plt.gcf()\n",
    "fig.canvas.set_window_title('Average Linkage Clustering')\n",
    "plt.show()\n",
    "\n",
    "C = hierarchy.linkage(dc, 'complete')\n",
    "cdn = hierarchy.dendrogram(C)\n",
    "fig = plt.gcf()\n",
    "fig.canvas.set_window_title('Complete Linkage Clustering')\n",
    "plt.show()\n",
    "\n",
    "hierarchy.set_link_color_palette(None)  # reset to default after use"
   ]
  },
  {
   "cell_type": "code",
   "execution_count": null,
   "metadata": {},
   "outputs": [],
   "source": []
  }
 ],
 "metadata": {
  "kernelspec": {
   "display_name": "Python 3",
   "language": "python",
   "name": "python3"
  },
  "language_info": {
   "codemirror_mode": {
    "name": "ipython",
    "version": 3
   },
   "file_extension": ".py",
   "mimetype": "text/x-python",
   "name": "python",
   "nbconvert_exporter": "python",
   "pygments_lexer": "ipython3",
   "version": "3.7.3"
  }
 },
 "nbformat": 4,
 "nbformat_minor": 2
}
